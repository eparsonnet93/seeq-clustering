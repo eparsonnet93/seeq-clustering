{
 "cells": [
  {
   "cell_type": "code",
   "execution_count": 1,
   "id": "4c430159",
   "metadata": {},
   "outputs": [
    {
     "data": {
      "application/javascript": [
       "IPython.OutputArea.prototype._should_scroll = function(lines) {\n",
       "    return false;\n",
       "}\n"
      ],
      "text/plain": [
       "<IPython.core.display.Javascript object>"
      ]
     },
     "metadata": {},
     "output_type": "display_data"
    }
   ],
   "source": [
    "%%javascript\n",
    "IPython.OutputArea.prototype._should_scroll = function(lines) {\n",
    "    return false;\n",
    "}"
   ]
  },
  {
   "cell_type": "code",
   "execution_count": null,
   "id": "b72bae2c",
   "metadata": {},
   "outputs": [],
   "source": [
    "from urllib.parse import unquote\n",
    "import warnings\n",
    "import IPython\n",
    "from app.clusterApp import GUI"
   ]
  },
  {
   "cell_type": "code",
   "execution_count": 5,
   "id": "49ddeb6c",
   "metadata": {},
   "outputs": [
    {
     "ename": "IndexError",
     "evalue": "list index out of range",
     "output_type": "error",
     "traceback": [
      "\u001b[0;31m\u001b[0m",
      "\u001b[0;31mIndexError\u001b[0mTraceback (most recent call last)",
      "\u001b[0;32m<ipython-input-5-9fb93113ce0b>\u001b[0m in \u001b[0;36m<module>\u001b[0;34m\u001b[0m\n\u001b[1;32m      3\u001b[0m \u001b[0;34m\u001b[0m\u001b[0m\n\u001b[1;32m      4\u001b[0m \u001b[0;31m#worsheet id\u001b[0m\u001b[0;34m\u001b[0m\u001b[0;34m\u001b[0m\u001b[0;34m\u001b[0m\u001b[0m\n\u001b[0;32m----> 5\u001b[0;31m \u001b[0mwks\u001b[0m \u001b[0;34m=\u001b[0m \u001b[0murl\u001b[0m\u001b[0;34m.\u001b[0m\u001b[0msplit\u001b[0m\u001b[0;34m(\u001b[0m\u001b[0;34m'worksheetId='\u001b[0m\u001b[0;34m)\u001b[0m\u001b[0;34m[\u001b[0m\u001b[0;36m1\u001b[0m\u001b[0;34m]\u001b[0m\u001b[0;34m.\u001b[0m\u001b[0msplit\u001b[0m\u001b[0;34m(\u001b[0m\u001b[0;34m'&'\u001b[0m\u001b[0;34m)\u001b[0m\u001b[0;34m[\u001b[0m\u001b[0;36m0\u001b[0m\u001b[0;34m]\u001b[0m\u001b[0;34m\u001b[0m\u001b[0;34m\u001b[0m\u001b[0m\n\u001b[0m\u001b[1;32m      6\u001b[0m \u001b[0mloading\u001b[0m\u001b[0;34m(\u001b[0m\u001b[0;34m)\u001b[0m\u001b[0;34m\u001b[0m\u001b[0;34m\u001b[0m\u001b[0m\n\u001b[1;32m      7\u001b[0m \u001b[0;34m\u001b[0m\u001b[0m\n",
      "\u001b[0;31mIndexError\u001b[0m: list index out of range"
     ]
    }
   ],
   "source": [
    "#get the url\n",
    "url = unquote(jupyter_notebook_url)\n",
    "\n",
    "#authentication\n",
    "auth_token = spy.client.auth_token\n",
    "\n",
    "### Styling ###\n",
    "_style = '''\n",
    "<style>\n",
    "    .container { width:90% !important; }\n",
    "    .bottom-border {border-bottom: 2px solid black ; }\n",
    "    .fast-spin {\n",
    "                  -webkit-animation: fa-spin 2.5s infinite linear;\n",
    "                  animation: fa-spin 2.5s infinite linear;\n",
    "                }\n",
    "    .prompt_container {width:0px; min-width:0px; visibility: collapse}\n",
    "    .prompt {width:0px; min-width:0px; visibility: collapse}\n",
    "    .output_subarea {width:100%; max-width:100%}\n",
    "    .jupyter-widgets-view {max-width:70%; min-width:40%}\n",
    "</style>\n",
    "\n",
    "'''\n",
    "\n",
    "### misc. configuration ###\n",
    "warnings.simplefilter(action='ignore')\n",
    "\n",
    "### Display ###\n",
    "IPython.display.display(\n",
    "    IPython.display.HTML(_style)\n",
    ")\n",
    "\n",
    "app = GUI(url, auth_token)\n",
    "app.run()"
   ]
  }
 ],
 "metadata": {
  "kernelspec": {
   "display_name": "Python 3",
   "language": "python",
   "name": "python3"
  },
  "language_info": {
   "codemirror_mode": {
    "name": "ipython",
    "version": 3
   },
   "file_extension": ".py",
   "mimetype": "text/x-python",
   "name": "python",
   "nbconvert_exporter": "python",
   "pygments_lexer": "ipython3",
   "version": "3.8.8"
  }
 },
 "nbformat": 4,
 "nbformat_minor": 5
}
